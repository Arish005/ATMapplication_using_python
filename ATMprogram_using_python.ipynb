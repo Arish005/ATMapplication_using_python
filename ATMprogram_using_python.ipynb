{
  "nbformat": 4,
  "nbformat_minor": 0,
  "metadata": {
    "colab": {
      "provenance": [],
      "authorship_tag": "ABX9TyPQW/Xsh+cmbvmEmUpX4uwH",
      "include_colab_link": true
    },
    "kernelspec": {
      "name": "python3",
      "display_name": "Python 3"
    },
    "language_info": {
      "name": "python"
    }
  },
  "cells": [
    {
      "cell_type": "markdown",
      "metadata": {
        "id": "view-in-github",
        "colab_type": "text"
      },
      "source": [
        "<a href=\"https://colab.research.google.com/github/Arish005/ATMapplication_using_python/blob/main/ATMprogram_using_python.ipynb\" target=\"_parent\"><img src=\"https://colab.research.google.com/assets/colab-badge.svg\" alt=\"Open In Colab\"/></a>"
      ]
    },
    {
      "cell_type": "code",
      "source": [
        "!git clone https://github.com/Arish005/ATMapplication_using_python.git\n",
        "%cd spamclassifier\n"
      ],
      "metadata": {
        "colab": {
          "base_uri": "https://localhost:8080/"
        },
        "id": "SLE53NQM2exE",
        "outputId": "91cdc1e0-53fe-4935-9a6c-21fd07928978"
      },
      "execution_count": 2,
      "outputs": [
        {
          "output_type": "stream",
          "name": "stdout",
          "text": [
            "Cloning into 'ATMapplication_using_python'...\n",
            "remote: Enumerating objects: 3, done.\u001b[K\n",
            "remote: Counting objects: 100% (3/3), done.\u001b[K\n",
            "remote: Total 3 (delta 0), reused 0 (delta 0), pack-reused 0\u001b[K\n",
            "Receiving objects: 100% (3/3), done.\n",
            "[Errno 2] No such file or directory: 'spamclassifier'\n",
            "/content\n"
          ]
        }
      ]
    },
    {
      "cell_type": "code",
      "execution_count": null,
      "metadata": {
        "colab": {
          "base_uri": "https://localhost:8080/"
        },
        "id": "eZqsExOz2MD2",
        "outputId": "b581430c-8daa-4a7c-c9d2-906a69c3d18b"
      },
      "outputs": [
        {
          "output_type": "stream",
          "name": "stdout",
          "text": [
            "\n",
            "Welcome to the ATM\n",
            "1. Create Account\n",
            "2. Log In\n",
            "3. Quit\n"
          ]
        }
      ],
      "source": [
        "import random\n",
        "\n",
        "class Account:\n",
        "    def __init__(self, account_number, pin, balance=0):\n",
        "        self.account_number = account_number\n",
        "        self.pin = pin\n",
        "        self.balance = balance\n",
        "        self.transaction_history = []\n",
        "\n",
        "    def deposit(self, amount):\n",
        "        if amount > 0:\n",
        "            self.balance += amount\n",
        "            self.transaction_history.append(f\"Deposited ${amount:.2f}\")\n",
        "            return True\n",
        "        else:\n",
        "            return False\n",
        "\n",
        "    def withdraw(self, amount):\n",
        "        if amount > 0 and self.balance >= amount:\n",
        "            self.balance -= amount\n",
        "            self.transaction_history.append(f\"Withdrew ${amount:.2f}\")\n",
        "            return True\n",
        "        else:\n",
        "            return False\n",
        "\n",
        "    def transfer(self, recipient_account, amount):\n",
        "        if amount > 0 and self.balance >= amount:\n",
        "            self.balance -= amount\n",
        "            recipient_account.balance += amount\n",
        "            self.transaction_history.append(f\"Transferred ${amount:.2f} to {recipient_account.account_number}\")\n",
        "            recipient_account.transaction_history.append(f\"Received ${amount:.2f} from {self.account_number}\")\n",
        "            return True\n",
        "        else:\n",
        "            return False\n",
        "\n",
        "    def get_balance(self):\n",
        "        return self.balance\n",
        "\n",
        "    def get_transaction_history(self):\n",
        "        return self.transaction_history\n",
        "\n",
        "class ATM:\n",
        "    def __init__(self):\n",
        "        self.accounts = {}\n",
        "        self.current_account = None\n",
        "\n",
        "    def create_account(self):\n",
        "        account_number = str(random.randint(1000, 9999))\n",
        "        pin = str(random.randint(1000, 9999))\n",
        "        account = Account(account_number, pin)\n",
        "        self.accounts[account_number] = account\n",
        "        return account\n",
        "\n",
        "    def login(self, account_number, pin):\n",
        "        account = self.accounts.get(account_number)\n",
        "        if account and account.pin == pin:\n",
        "            self.current_account = account\n",
        "            return True\n",
        "        else:\n",
        "            return False\n",
        "\n",
        "    def logout(self):\n",
        "        self.current_account = None\n",
        "\n",
        "def main():\n",
        "    atm = ATM()\n",
        "\n",
        "    while True:\n",
        "        print(\"\\nWelcome to the ATM\")\n",
        "        print(\"1. Create Account\")\n",
        "        print(\"2. Log In\")\n",
        "        print(\"3. Quit\")\n",
        "\n",
        "        choice = input(\"Enter your choice: \")\n",
        "\n",
        "        if choice == \"1\":\n",
        "            account = atm.create_account()\n",
        "            print(f\"Account created successfully.\")\n",
        "            print(f\"Account Number: {account.account_number}\")\n",
        "            print(f\"PIN: {account.pin}\")\n",
        "        elif choice == \"2\":\n",
        "            account_number = input(\"Enter your account number: \")\n",
        "            pin = input(\"Enter your PIN: \")\n",
        "            if atm.login(account_number, pin):\n",
        "                print(\"Logged in successfully.\")\n",
        "                while True:\n",
        "                    print(\"\\nATM Menu\")\n",
        "                    print(\"1. Deposit\")\n",
        "                    print(\"2. Withdraw\")\n",
        "                    print(\"3. Transfer\")\n",
        "                    print(\"4. Check Balance\")\n",
        "                    print(\"5. Transaction History\")\n",
        "                    print(\"6. Log Out\")\n",
        "\n",
        "                    option = input(\"Enter your choice: \")\n",
        "\n",
        "                    if option == \"1\":\n",
        "                        amount = float(input(\"Enter the deposit amount: \"))\n",
        "                        if atm.current_account.deposit(amount):\n",
        "                            print(\"Deposit successful.\")\n",
        "                        else:\n",
        "                            print(\"Invalid amount.\")\n",
        "                    elif option == \"2\":\n",
        "                        amount = float(input(\"Enter the withdrawal amount: \"))\n",
        "                        if atm.current_account.withdraw(amount):\n",
        "                            print(\"Withdrawal successful.\")\n",
        "                        else:\n",
        "                            print(\"Invalid amount or insufficient balance.\")\n",
        "                    elif option == \"3\":\n",
        "                        recipient_account_number = input(\"Enter the recipient's account number: \")\n",
        "                        recipient = atm.accounts.get(recipient_account_number)\n",
        "                        if recipient:\n",
        "                            amount = float(input(\"Enter the transfer amount: \"))\n",
        "                            if atm.current_account.transfer(recipient, amount):\n",
        "                                print(f\"Transfer to {recipient_account_number} successful.\")\n",
        "                            else:\n",
        "                                print(\"Invalid amount or insufficient balance.\")\n",
        "                        else:\n",
        "                            print(\"Recipient account not found.\")\n",
        "                    elif option == \"4\":\n",
        "                        print(f\"Your account balance: ${atm.current_account.get_balance():.2f}\")\n",
        "                    elif option == \"5\":\n",
        "                        history = atm.current_account.get_transaction_history()\n",
        "                        for transaction in history:\n",
        "                            print(transaction)\n",
        "                    elif option == \"6\":\n",
        "                        atm.logout()\n",
        "                        print(\"Logged out.\")\n",
        "                        break\n",
        "                    else:\n",
        "                        print(\"Invalid choice. Please try again.\")\n",
        "            else:\n",
        "                print(\"Login failed. Invalid account number or PIN.\")\n",
        "        elif choice == \"3\":\n",
        "            print(\"Thank you for using the ATM. Goodbye!\")\n",
        "            break\n",
        "        else:\n",
        "            print(\"Invalid choice. Please try again.\")\n",
        "\n",
        "if __name__ == \"__main__\":\n",
        "    main()\n"
      ]
    }
  ]
}